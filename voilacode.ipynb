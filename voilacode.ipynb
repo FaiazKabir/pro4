{
 "cells": [
  {
   "cell_type": "code",
   "execution_count": null,
   "id": "82ca2b48-d609-4640-bd62-9febc4bd8b86",
   "metadata": {},
   "outputs": [],
   "source": [
    "git clone https://github.com/FaiazKabir/provinceszipped.git\n",
    "cd voila\n",
    "voila notebooks/provinceszipped.ipynb\n"
   ]
  }
 ],
 "metadata": {
  "kernelspec": {
   "display_name": "Python 3 (ipykernel)",
   "language": "python",
   "name": "python3"
  },
  "language_info": {
   "codemirror_mode": {
    "name": "ipython",
    "version": 3
   },
   "file_extension": ".py",
   "mimetype": "text/x-python",
   "name": "python",
   "nbconvert_exporter": "python",
   "pygments_lexer": "ipython3",
   "version": "3.11.5"
  }
 },
 "nbformat": 4,
 "nbformat_minor": 5
}
