{
 "cells": [
  {
   "cell_type": "code",
   "execution_count": 3,
   "id": "56b5db77-8d88-409c-8367-2ba73f9f36dd",
   "metadata": {},
   "outputs": [
    {
     "data": {
      "text/html": [
       "\n",
       "        <iframe\n",
       "            width=\"100%\"\n",
       "            height=\"650\"\n",
       "            src=\"http://127.0.0.1:8053/\"\n",
       "            frameborder=\"0\"\n",
       "            allowfullscreen\n",
       "            \n",
       "        ></iframe>\n",
       "        "
      ],
      "text/plain": [
       "<IPython.lib.display.IFrame at 0x26ddff83290>"
      ]
     },
     "metadata": {},
     "output_type": "display_data"
    }
   ],
   "source": [
    "import dash\n",
    "from dash import dcc, html, Input, Output, State\n",
    "import plotly.express as px\n",
    "import plotly.graph_objects as go\n",
    "import geopandas as gpd\n",
    "import pandas as pd\n",
    "import json\n",
    "import zipfile\n",
    "import os\n",
    "\n",
    "# ---------------------------\n",
    "# Load and Prepare Data\n",
    "# ---------------------------\n",
    "# Load province polygons geoJSON\n",
    "with open('geoBoundaries-CAN-ADM1_simplified.geojson') as f:\n",
    "    geojson_data = json.load(f)\n",
    "\n",
    "gdf = gpd.GeoDataFrame.from_features(geojson_data['features'])\n",
    "gdf = gdf.rename(columns={\"shapeName\": \"Province\"})\n",
    "gdf.set_crs(epsg=4326, inplace=True)\n",
    "\n",
    "# Define notable places per province (as lists)\n",
    "province_to_places = {\n",
    "    \"Alberta\": [\"Banff NP\", \"Jasper NP\", \"Calgary Tower\", \"Lake Louise\", \"West Edmonton Mall\"],\n",
    "    \"British Columbia\": [\"Stanley Park\", \"Butchart Gardens\", \"Whistler\", \"Capilano Bridge\", \"Pacific Rim NP\"],\n",
    "    \"Manitoba\": [\"The Forks\", \"Riding Mountain NP\", \"Assiniboine Zoo\", \"Museum for Human Rights\", \"FortWhyte Alive\"],\n",
    "    \"New Brunswick\": [\"Bay of Fundy\", \"Hopewell Rocks\", \"Fundy NP\", \"Reversing Falls\", \"Kings Landing\"],\n",
    "    \"Newfoundland and Labrador\": [\"Gros Morne NP\", \"Signal Hill\", \"L'Anse aux Meadows\", \"Cape Spear\", \"Bonavista\"],\n",
    "    \"Nova Scotia\": [\"Peggy's Cove\", \"Cabot Trail\", \"Halifax Citadel\", \"Lunenburg\", \"Kejimkujik NP\"],\n",
    "    \"Ontario\": [\"CN Tower\", \"Niagara Falls\", \"Algonquin Park\", \"Parliament Hill\", \"Royal Ontario Museum\"],\n",
    "    \"Prince Edward Island\": [\"Green Gables\", \"Cavindish Beach\", \"Confederation Trail\", \"PEI NP\", \"Point Prim Lighthouse\"],\n",
    "    \"Quebec\": [\"Old Quebec\", \"Mont-Tremblant\", \"Montmorency Falls\", \"Quebec City\", \"Sainte-Anne-de-Beaupré\"],\n",
    "    \"Saskatchewan\": [\"Forestry Zoo\", \"Wanuskewin\", \"Prince Albert NP\", \"Wascana Centre\", \"RCMP Heritage Centre\"],\n",
    "    \"Northwest Territories\": [\"Nahanni NP\", \"Great Slave Lake\", \"Virginia Falls\", \"Yellowknife\", \"Wood Buffalo NP\"],\n",
    "    \"Nunavut\": [\"Auyuittuq NP\", \"Sylvia Grinnell Park\", \"Qaummaarviit Park\", \"Iqaluit\", \"Sirmilik NP\"],\n",
    "    \"Yukon\": [\"Kluane NP\", \"Miles Canyon\", \"SS Klondike\", \"Whitehorse\", \"Tombstone Park\"]\n",
    "}\n",
    "\n",
    "gdf[\"Notable Places\"] = gdf[\"Province\"].map(lambda prov: \", \".join(province_to_places[prov]))\n",
    "\n",
    "# Load points-of-interest\n",
    "points_gdf = gpd.read_file(\"hotosm_can_points_of_interest_points_geojson.geojson\")\n",
    "points_gdf.set_crs(epsg=4326, inplace=True)\n",
    "points_gdf = points_gdf.to_crs(gdf.crs)\n",
    "\n",
    "# Precompute notable places - CHANGED HERE: using union_all instead of unary_union\n",
    "filtered_rows = []\n",
    "for prov, places in province_to_places.items():\n",
    "    province_poly = gdf[gdf[\"Province\"] == prov].geometry.union_all()\n",
    "    for place in places:\n",
    "        matches = points_gdf[points_gdf[\"name\"].str.contains(place, case=False, na=False)]\n",
    "        for _, row in matches.iterrows():\n",
    "            if row.geometry.within(province_poly):\n",
    "                filtered_rows.append({\n",
    "                    \"Province\": prov,\n",
    "                    \"Place\": place,\n",
    "                    \"lat\": row.geometry.y,\n",
    "                    \"lon\": row.geometry.x\n",
    "                })\n",
    "\n",
    "notable_df = pd.DataFrame(filtered_rows)\n",
    "notable_df[\"marker_id\"] = notable_df.apply(lambda row: f\"{row['Province']}_{row['Place']}\", axis=1)\n",
    "\n",
    "# ---------------------------\n",
    "# Initialize Dash App\n",
    "# ---------------------------\n",
    "app = dash.Dash(__name__)\n",
    "server = app.server  # Required for Binder\n",
    "\n",
    "app.layout = html.Div([\n",
    "    html.H1(\"Canada Provinces with Notable Places\"),\n",
    "    dcc.Dropdown(\n",
    "        id='province-dropdown',\n",
    "        options=[{'label': prov, 'value': prov} for prov in sorted(gdf['Province'].unique())],\n",
    "        multi=True,\n",
    "        placeholder=\"Select Provinces to highlight\"\n",
    "    ),\n",
    "    dcc.Store(id='clicked-markers', data=[]),\n",
    "    dcc.Graph(id='choropleth-map')\n",
    "])\n",
    "\n",
    "# [Rest of your callbacks remain the same]\n",
    "\n",
    "if __name__ == '__main__':\n",
    "    app.run_server(port=8053, debug=False)"
   ]
  },
  {
   "cell_type": "code",
   "execution_count": null,
   "id": "f124ba21-6325-406f-87e7-066f8e9ddb35",
   "metadata": {},
   "outputs": [],
   "source": []
  }
 ],
 "metadata": {
  "kernelspec": {
   "display_name": "Python 3 (ipykernel)",
   "language": "python",
   "name": "python3"
  },
  "language_info": {
   "codemirror_mode": {
    "name": "ipython",
    "version": 3
   },
   "file_extension": ".py",
   "mimetype": "text/x-python",
   "name": "python",
   "nbconvert_exporter": "python",
   "pygments_lexer": "ipython3",
   "version": "3.11.5"
  }
 },
 "nbformat": 4,
 "nbformat_minor": 5
}
